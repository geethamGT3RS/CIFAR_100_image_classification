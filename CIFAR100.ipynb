{
  "nbformat": 4,
  "nbformat_minor": 0,
  "metadata": {
    "colab": {
      "provenance": [],
      "gpuType": "T4",
      "authorship_tag": "ABX9TyMwXli2emnAZpgjzpOf8LG7",
      "include_colab_link": true
    },
    "kernelspec": {
      "name": "python3",
      "display_name": "Python 3"
    },
    "language_info": {
      "name": "python"
    },
    "accelerator": "GPU",
    "gpuClass": "standard"
  },
  "cells": [
    {
      "cell_type": "markdown",
      "metadata": {
        "id": "view-in-github",
        "colab_type": "text"
      },
      "source": [
        "<a href=\"https://colab.research.google.com/github/geethamGT3RS/Cifar_100_image_classification/blob/main/CIFAR100.ipynb\" target=\"_parent\"><img src=\"https://colab.research.google.com/assets/colab-badge.svg\" alt=\"Open In Colab\"/></a>"
      ]
    },
    {
      "cell_type": "markdown",
      "source": [
        "# *IMPORT REQUIRED LIBRARIES*"
      ],
      "metadata": {
        "id": "Es3PRgAD0f0V"
      }
    },
    {
      "cell_type": "code",
      "execution_count": 1,
      "metadata": {
        "id": "jHaMVGgNFeQt"
      },
      "outputs": [],
      "source": [
        "from keras.models import Sequential\n",
        "from keras.layers.convolutional import Conv2D\n",
        "from keras.layers.pooling import MaxPool2D\n",
        "from keras.layers.core import Dense,Activation,Dropout,Flatten\n",
        "import tensorflow as tf\n",
        "from tensorflow.keras import datasets, layers, models, optimizers"
      ]
    },
    {
      "cell_type": "markdown",
      "source": [
        "# *DOWNLOAD CIFAR 100 DATASET*\n",
        "CIFAR100 data set has 50000 color images. Find more about the data in this link https://www.kaggle.com/datasets/fedesoriano/cifar100"
      ],
      "metadata": {
        "id": "eeJ6MssG01YM"
      }
    },
    {
      "cell_type": "code",
      "source": [
        "from keras.datasets import cifar100\n",
        "(train_set,train_label),(test_set,test_label) = cifar100.load_data()\n",
        "train_set = train_set.astype('float32')/255.0\n",
        "test_set = test_set.astype('float32')/255.0\n",
        "from keras.utils import np_utils\n",
        "train_label = np_utils.to_categorical(train_label,100)\n",
        "test_label = np_utils.to_categorical(test_label,100)"
      ],
      "metadata": {
        "colab": {
          "base_uri": "https://localhost:8080/"
        },
        "id": "S9zsLjsIMEAW",
        "outputId": "6e375dd6-bbaa-4fa0-f23b-e2256ad4ba83"
      },
      "execution_count": 2,
      "outputs": [
        {
          "output_type": "stream",
          "name": "stdout",
          "text": [
            "Downloading data from https://www.cs.toronto.edu/~kriz/cifar-100-python.tar.gz\n",
            "169001437/169001437 [==============================] - 2s 0us/step\n"
          ]
        }
      ]
    },
    {
      "cell_type": "markdown",
      "source": [
        "# *MODEL IMPLEMENTATION*\n",
        "This neural network implementation might take lot of time to process. Use GPU hardware accelrator if present"
      ],
      "metadata": {
        "id": "9SoZzdjT1fth"
      }
    },
    {
      "cell_type": "code",
      "source": [
        "classify = Sequential()\n",
        "classify.add(Conv2D(32,(3,3),activation='relu',padding='same',input_shape=(32,32,3)))\n",
        "classify.add(Conv2D(32,(3,3),activation='relu',padding='same'))\n",
        "classify.add(MaxPool2D(pool_size=(2,2)))\n",
        "classify.add(Dropout(0.25))\n",
        "classify.add(Conv2D(64,(3,3),activation='relu',padding='same'))\n",
        "classify.add(MaxPool2D(pool_size=(2,2)))\n",
        "classify.add(Conv2D(64,(3,3),activation='relu',padding='same'))\n",
        "classify.add(MaxPool2D(pool_size=(2,2)))\n",
        "classify.add(Dropout(0.25))\n",
        "classify.add(Flatten())\n",
        "classify.add(Dense(512,activation='relu'))\n",
        "classify.add(Dropout(0.5))\n",
        "classify.add(Dense(100,activation='softmax'))"
      ],
      "metadata": {
        "id": "ijeiDXF_QZvr"
      },
      "execution_count": 42,
      "outputs": []
    },
    {
      "cell_type": "code",
      "source": [
        "classify.compile(optimizer='adam',loss='categorical_crossentropy',metrics=['accuracy'])\n",
        " \n",
        "classify.summary()"
      ],
      "metadata": {
        "colab": {
          "base_uri": "https://localhost:8080/"
        },
        "id": "0aknPcBMMPJe",
        "outputId": "2aec5f1b-048c-4fac-e56d-cc1e36a1de5e"
      },
      "execution_count": 43,
      "outputs": [
        {
          "output_type": "stream",
          "name": "stdout",
          "text": [
            "Model: \"sequential_1\"\n",
            "_________________________________________________________________\n",
            " Layer (type)                Output Shape              Param #   \n",
            "=================================================================\n",
            " conv2d_2 (Conv2D)           (None, 32, 32, 32)        896       \n",
            "                                                                 \n",
            " conv2d_3 (Conv2D)           (None, 32, 32, 32)        9248      \n",
            "                                                                 \n",
            " max_pooling2d (MaxPooling2D  (None, 16, 16, 32)       0         \n",
            " )                                                               \n",
            "                                                                 \n",
            " dropout_1 (Dropout)         (None, 16, 16, 32)        0         \n",
            "                                                                 \n",
            " conv2d_4 (Conv2D)           (None, 16, 16, 64)        18496     \n",
            "                                                                 \n",
            " max_pooling2d_1 (MaxPooling  (None, 8, 8, 64)         0         \n",
            " 2D)                                                             \n",
            "                                                                 \n",
            " conv2d_5 (Conv2D)           (None, 8, 8, 64)          36928     \n",
            "                                                                 \n",
            " max_pooling2d_2 (MaxPooling  (None, 4, 4, 64)         0         \n",
            " 2D)                                                             \n",
            "                                                                 \n",
            " dropout_2 (Dropout)         (None, 4, 4, 64)          0         \n",
            "                                                                 \n",
            " flatten_1 (Flatten)         (None, 1024)              0         \n",
            "                                                                 \n",
            " dense_2 (Dense)             (None, 512)               524800    \n",
            "                                                                 \n",
            " dropout_3 (Dropout)         (None, 512)               0         \n",
            "                                                                 \n",
            " dense_3 (Dense)             (None, 100)               51300     \n",
            "                                                                 \n",
            "=================================================================\n",
            "Total params: 641,668\n",
            "Trainable params: 641,668\n",
            "Non-trainable params: 0\n",
            "_________________________________________________________________\n"
          ]
        }
      ]
    },
    {
      "cell_type": "code",
      "source": [
        "history = classify.fit(train_set,train_label,batch_size=128, epochs =50,verbose=1)"
      ],
      "metadata": {
        "colab": {
          "base_uri": "https://localhost:8080/"
        },
        "id": "LwIExCDpMTvd",
        "outputId": "667a2853-ea65-4b9e-e24d-f8e8151b5f58"
      },
      "execution_count": 44,
      "outputs": [
        {
          "output_type": "stream",
          "name": "stdout",
          "text": [
            "Epoch 1/50\n",
            "391/391 [==============================] - 8s 13ms/step - loss: 4.1236 - accuracy: 0.0652\n",
            "Epoch 2/50\n",
            "391/391 [==============================] - 5s 12ms/step - loss: 3.5178 - accuracy: 0.1626\n",
            "Epoch 3/50\n",
            "391/391 [==============================] - 4s 11ms/step - loss: 3.1941 - accuracy: 0.2201\n",
            "Epoch 4/50\n",
            "391/391 [==============================] - 5s 12ms/step - loss: 2.9718 - accuracy: 0.2605\n",
            "Epoch 5/50\n",
            "391/391 [==============================] - 4s 11ms/step - loss: 2.8003 - accuracy: 0.2984\n",
            "Epoch 6/50\n",
            "391/391 [==============================] - 5s 12ms/step - loss: 2.6674 - accuracy: 0.3211\n",
            "Epoch 7/50\n",
            "391/391 [==============================] - 5s 12ms/step - loss: 2.5447 - accuracy: 0.3473\n",
            "Epoch 8/50\n",
            "391/391 [==============================] - 4s 11ms/step - loss: 2.4520 - accuracy: 0.3634\n",
            "Epoch 9/50\n",
            "391/391 [==============================] - 5s 12ms/step - loss: 2.3815 - accuracy: 0.3809\n",
            "Epoch 10/50\n",
            "391/391 [==============================] - 4s 11ms/step - loss: 2.3100 - accuracy: 0.3902\n",
            "Epoch 11/50\n",
            "391/391 [==============================] - 5s 12ms/step - loss: 2.2430 - accuracy: 0.4063\n",
            "Epoch 12/50\n",
            "391/391 [==============================] - 5s 12ms/step - loss: 2.1850 - accuracy: 0.4201\n",
            "Epoch 13/50\n",
            "391/391 [==============================] - 5s 12ms/step - loss: 2.1465 - accuracy: 0.4286\n",
            "Epoch 14/50\n",
            "391/391 [==============================] - 5s 12ms/step - loss: 2.0929 - accuracy: 0.4434\n",
            "Epoch 15/50\n",
            "391/391 [==============================] - 5s 12ms/step - loss: 2.0531 - accuracy: 0.4446\n",
            "Epoch 16/50\n",
            "391/391 [==============================] - 5s 12ms/step - loss: 2.0222 - accuracy: 0.4536\n",
            "Epoch 17/50\n",
            "391/391 [==============================] - 5s 12ms/step - loss: 1.9855 - accuracy: 0.4635\n",
            "Epoch 18/50\n",
            "391/391 [==============================] - 5s 12ms/step - loss: 1.9458 - accuracy: 0.4723\n",
            "Epoch 19/50\n",
            "391/391 [==============================] - 4s 11ms/step - loss: 1.9338 - accuracy: 0.4718\n",
            "Epoch 20/50\n",
            "391/391 [==============================] - 5s 12ms/step - loss: 1.8947 - accuracy: 0.4811\n",
            "Epoch 21/50\n",
            "391/391 [==============================] - 4s 11ms/step - loss: 1.8667 - accuracy: 0.4857\n",
            "Epoch 22/50\n",
            "391/391 [==============================] - 5s 12ms/step - loss: 1.8601 - accuracy: 0.4854\n",
            "Epoch 23/50\n",
            "391/391 [==============================] - 5s 12ms/step - loss: 1.8214 - accuracy: 0.4986\n",
            "Epoch 24/50\n",
            "391/391 [==============================] - 4s 11ms/step - loss: 1.8026 - accuracy: 0.5012\n",
            "Epoch 25/50\n",
            "391/391 [==============================] - 5s 12ms/step - loss: 1.7803 - accuracy: 0.5066\n",
            "Epoch 26/50\n",
            "391/391 [==============================] - 4s 11ms/step - loss: 1.7670 - accuracy: 0.5081\n",
            "Epoch 27/50\n",
            "391/391 [==============================] - 4s 11ms/step - loss: 1.7506 - accuracy: 0.5129\n",
            "Epoch 28/50\n",
            "391/391 [==============================] - 5s 12ms/step - loss: 1.7209 - accuracy: 0.5196\n",
            "Epoch 29/50\n",
            "391/391 [==============================] - 5s 12ms/step - loss: 1.7026 - accuracy: 0.5222\n",
            "Epoch 30/50\n",
            "391/391 [==============================] - 5s 12ms/step - loss: 1.6878 - accuracy: 0.5269\n",
            "Epoch 31/50\n",
            "391/391 [==============================] - 5s 12ms/step - loss: 1.6809 - accuracy: 0.5281\n",
            "Epoch 32/50\n",
            "391/391 [==============================] - 5s 12ms/step - loss: 1.6625 - accuracy: 0.5304\n",
            "Epoch 33/50\n",
            "391/391 [==============================] - 5s 12ms/step - loss: 1.6557 - accuracy: 0.5332\n",
            "Epoch 34/50\n",
            "391/391 [==============================] - 5s 12ms/step - loss: 1.6401 - accuracy: 0.5364\n",
            "Epoch 35/50\n",
            "391/391 [==============================] - 5s 12ms/step - loss: 1.6302 - accuracy: 0.5381\n",
            "Epoch 36/50\n",
            "391/391 [==============================] - 5s 12ms/step - loss: 1.6119 - accuracy: 0.5425\n",
            "Epoch 37/50\n",
            "391/391 [==============================] - 4s 11ms/step - loss: 1.5971 - accuracy: 0.5479\n",
            "Epoch 38/50\n",
            "391/391 [==============================] - 5s 12ms/step - loss: 1.5902 - accuracy: 0.5467\n",
            "Epoch 39/50\n",
            "391/391 [==============================] - 5s 12ms/step - loss: 1.5762 - accuracy: 0.5515\n",
            "Epoch 40/50\n",
            "391/391 [==============================] - 5s 12ms/step - loss: 1.5720 - accuracy: 0.5537\n",
            "Epoch 41/50\n",
            "391/391 [==============================] - 5s 12ms/step - loss: 1.5696 - accuracy: 0.5496\n",
            "Epoch 42/50\n",
            "391/391 [==============================] - 5s 12ms/step - loss: 1.5538 - accuracy: 0.5552\n",
            "Epoch 43/50\n",
            "391/391 [==============================] - 4s 11ms/step - loss: 1.5384 - accuracy: 0.5566\n",
            "Epoch 44/50\n",
            "391/391 [==============================] - 5s 12ms/step - loss: 1.5321 - accuracy: 0.5599\n",
            "Epoch 45/50\n",
            "391/391 [==============================] - 4s 11ms/step - loss: 1.5290 - accuracy: 0.5618\n",
            "Epoch 46/50\n",
            "391/391 [==============================] - 5s 12ms/step - loss: 1.5133 - accuracy: 0.5643\n",
            "Epoch 47/50\n",
            "391/391 [==============================] - 5s 12ms/step - loss: 1.5094 - accuracy: 0.5665\n",
            "Epoch 48/50\n",
            "391/391 [==============================] - 5s 12ms/step - loss: 1.5013 - accuracy: 0.5683\n",
            "Epoch 49/50\n",
            "391/391 [==============================] - 5s 12ms/step - loss: 1.4899 - accuracy: 0.5714\n",
            "Epoch 50/50\n",
            "391/391 [==============================] - 5s 12ms/step - loss: 1.4760 - accuracy: 0.5729\n"
          ]
        }
      ]
    },
    {
      "cell_type": "code",
      "source": [
        "score = classify.evaluate(test_set,test_label,verbose=0)\n",
        "print('deviation',score[0])\n",
        "print('accuracy:',score[1])"
      ],
      "metadata": {
        "colab": {
          "base_uri": "https://localhost:8080/"
        },
        "id": "4f9PTgrWMWjm",
        "outputId": "3e6f1d33-7501-49d4-d760-c938141f9c29"
      },
      "execution_count": 45,
      "outputs": [
        {
          "output_type": "stream",
          "name": "stdout",
          "text": [
            "deviation 1.921912670135498\n",
            "accuracy: 0.4945000112056732\n"
          ]
        }
      ]
    },
    {
      "cell_type": "code",
      "source": [
        "prediction = classify.predict(test_set)"
      ],
      "metadata": {
        "colab": {
          "base_uri": "https://localhost:8080/"
        },
        "id": "QHGgpYiZuMic",
        "outputId": "12cd8117-bb73-48f9-d261-e6f4fc26f09e"
      },
      "execution_count": 46,
      "outputs": [
        {
          "output_type": "stream",
          "name": "stdout",
          "text": [
            "313/313 [==============================] - 1s 2ms/step\n"
          ]
        }
      ]
    },
    {
      "cell_type": "code",
      "source": [
        "prediction.shape"
      ],
      "metadata": {
        "colab": {
          "base_uri": "https://localhost:8080/"
        },
        "id": "CLN0B33vw4oc",
        "outputId": "cbb854e2-fd7d-4fe6-a922-121145106aa5"
      },
      "execution_count": 47,
      "outputs": [
        {
          "output_type": "execute_result",
          "data": {
            "text/plain": [
              "(10000, 100)"
            ]
          },
          "metadata": {},
          "execution_count": 47
        }
      ]
    },
    {
      "cell_type": "code",
      "source": [
        "import matplotlib.pyplot as plt"
      ],
      "metadata": {
        "id": "jhfo2hHcu9uK"
      },
      "execution_count": 48,
      "outputs": []
    },
    {
      "cell_type": "code",
      "source": [
        "import numpy as np"
      ],
      "metadata": {
        "id": "LYU32nSGvDej"
      },
      "execution_count": 49,
      "outputs": []
    },
    {
      "cell_type": "code",
      "source": [
        "prediction"
      ],
      "metadata": {
        "colab": {
          "base_uri": "https://localhost:8080/"
        },
        "id": "7fAXe7fMzGYZ",
        "outputId": "b84f0b46-deff-4bab-9e12-aef46f0c0908"
      },
      "execution_count": 50,
      "outputs": [
        {
          "output_type": "execute_result",
          "data": {
            "text/plain": [
              "array([[3.56399399e-09, 6.81386780e-07, 1.40060321e-03, ...,\n",
              "        9.56514850e-05, 3.08393908e-04, 6.03448658e-04],\n",
              "       [1.56494163e-04, 1.70626584e-03, 2.02498515e-03, ...,\n",
              "        6.69892803e-02, 2.03164225e-03, 8.81755113e-05],\n",
              "       [4.78205198e-10, 1.29678938e-06, 9.59449972e-05, ...,\n",
              "        4.74307424e-04, 4.52838758e-05, 5.31356927e-05],\n",
              "       ...,\n",
              "       [3.20722734e-06, 2.11919596e-05, 2.30468345e-06, ...,\n",
              "        1.30464544e-03, 1.20191853e-05, 4.41079203e-04],\n",
              "       [1.56177471e-08, 5.58390529e-05, 1.19496864e-04, ...,\n",
              "        3.95753197e-02, 5.22762493e-05, 1.84491873e-02],\n",
              "       [8.35495361e-04, 2.48557460e-02, 1.00374816e-03, ...,\n",
              "        6.29287555e-09, 1.01322430e-05, 7.27585793e-05]], dtype=float32)"
            ]
          },
          "metadata": {},
          "execution_count": 50
        }
      ]
    },
    {
      "cell_type": "code",
      "source": [
        "def image_predictor(test):\n",
        "  \n",
        "  if test>0 and test <10000 :\n",
        "    plt.imshow(test_set[test])\n",
        "    predictions = np.argmax(prediction[test])\n",
        "    plt.title('prediction:{0}'.format(predictions))\n",
        "    plt.show()\n",
        "    \n",
        "  else :\n",
        "    test = np.random.randint(1,10000)\n",
        "    plt.imshow(test_set[test])\n",
        "    predictions = np.argmax(prediction[test])\n",
        "    plt.title('prediction:{0}'.format(prediction))\n",
        "    plt.show()\n",
        "\n",
        "image_predictor(88)    "
      ],
      "metadata": {
        "colab": {
          "base_uri": "https://localhost:8080/",
          "height": 452
        },
        "id": "K8qYkBRexp6m",
        "outputId": "b443d481-c740-4360-a627-49a3fdb91c67"
      },
      "execution_count": 52,
      "outputs": [
        {
          "output_type": "display_data",
          "data": {
            "text/plain": [
              "<Figure size 640x480 with 1 Axes>"
            ],
            "image/png": "[encoded data removed]"
          },
          "metadata": {}
        }
      ]
    }
  ]
}